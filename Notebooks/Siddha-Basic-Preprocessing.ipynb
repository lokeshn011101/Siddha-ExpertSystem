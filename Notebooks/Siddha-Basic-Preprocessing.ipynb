{
  "nbformat": 4,
  "nbformat_minor": 0,
  "metadata": {
    "colab": {
      "provenance": [],
      "collapsed_sections": []
    },
    "kernelspec": {
      "name": "python3",
      "display_name": "Python 3"
    },
    "language_info": {
      "name": "python"
    }
  },
  "cells": [
    {
      "cell_type": "code",
      "execution_count": 36,
      "metadata": {
        "id": "h1CKr9mwJG_M"
      },
      "outputs": [],
      "source": [
        "#Imports\n",
        "import os\n",
        "from google.colab import drive\n",
        "import numpy as np\n",
        "import pandas as pd\n",
        "import glob\n",
        "import matplotlib.pyplot as plt"
      ]
    },
    {
      "cell_type": "code",
      "source": [
        "#Mount and access drive\n",
        "drive.mount('/content/drive',force_remount=True)\n",
        "os.chdir('/content/drive/My Drive')\n",
        "print(\"Change successful.\")"
      ],
      "metadata": {
        "colab": {
          "base_uri": "https://localhost:8080/"
        },
        "id": "shUJZshmKDDR",
        "outputId": "40816f85-87be-448d-b839-c55290487f98"
      },
      "execution_count": 37,
      "outputs": [
        {
          "output_type": "stream",
          "name": "stdout",
          "text": [
            "Mounted at /content/drive\n",
            "Change successful.\n"
          ]
        }
      ]
    },
    {
      "cell_type": "code",
      "source": [
        "all_files = glob.glob(\"Siddha/*.xlsx\")\n",
        "all_files"
      ],
      "metadata": {
        "colab": {
          "base_uri": "https://localhost:8080/"
        },
        "id": "usEmg9BuLGh7",
        "outputId": "e9ab6f73-044e-4914-c0ef-72560f220182"
      },
      "execution_count": 38,
      "outputs": [
        {
          "output_type": "execute_result",
          "data": {
            "text/plain": [
              "['Siddha/kabha-nadi.xlsx',\n",
              " 'Siddha/kabha-pitha.xlsx',\n",
              " 'Siddha/kabha-vatha.xlsx',\n",
              " 'Siddha/pithakabham.xlsx',\n",
              " 'Siddha/pitham.xlsx',\n",
              " 'Siddha/pithavadham.xlsx',\n",
              " 'Siddha/vatha-kabham.xlsx',\n",
              " 'Siddha/vatham.xlsx',\n",
              " 'Siddha/vatha-pitham.xlsx']"
            ]
          },
          "metadata": {},
          "execution_count": 38
        }
      ]
    },
    {
      "cell_type": "code",
      "source": [
        "all_files = glob.glob(\"Siddha/*.xlsx\")\n",
        "individual_files = []\n",
        "\n",
        "for filename in all_files:\n",
        "    df = pd.read_excel(filename)\n",
        "    individual_files.append(df)\n",
        "\n",
        "siddha_df = pd.concat(individual_files, axis=0, ignore_index=True)"
      ],
      "metadata": {
        "id": "uUSmvlkFKFT3"
      },
      "execution_count": 39,
      "outputs": []
    },
    {
      "cell_type": "code",
      "source": [
        "siddha_df.head()"
      ],
      "metadata": {
        "colab": {
          "base_uri": "https://localhost:8080/",
          "height": 206
        },
        "id": "nCKZrLF8Nmw0",
        "outputId": "14d21525-78e3-45b8-9181-530836c7adcc"
      },
      "execution_count": 40,
      "outputs": [
        {
          "output_type": "execute_result",
          "data": {
            "text/plain": [
              "          Summit of head - suprasternal notch suprasternal notch to umbilicus  \\\n",
              "0                                    Delirium            Pulmonary TB, asthma   \n",
              "1   Pair of tongue with sweet taste sensation   Bronchitis / bronchial asthma   \n",
              "2                  Heaviness of ears and face                          Hiccup   \n",
              "3                      Sweating over the head                          Emesis   \n",
              "4                      Lacrimation rhinorrhea                     Respiration   \n",
              "\n",
              "  Umbilicus to anus Upper and lower Limbs Throughout the body       Label  \\\n",
              "0               NaN        Unable to walk               Fever  kabha-nadi   \n",
              "1               NaN                   NaN              Eczema  kabha-nadi   \n",
              "2               NaN                   NaN          Acute pain  kabha-nadi   \n",
              "3               NaN                   NaN        Inflammation  kabha-nadi   \n",
              "4               NaN                   NaN             Anaemia  kabha-nadi   \n",
              "\n",
              "  Upper and Lower Limbs  \n",
              "0                   NaN  \n",
              "1                   NaN  \n",
              "2                   NaN  \n",
              "3                   NaN  \n",
              "4                   NaN  "
            ],
            "text/html": [
              "\n",
              "  <div id=\"df-66e95688-02a4-47f3-9d56-9edb934e6b15\">\n",
              "    <div class=\"colab-df-container\">\n",
              "      <div>\n",
              "<style scoped>\n",
              "    .dataframe tbody tr th:only-of-type {\n",
              "        vertical-align: middle;\n",
              "    }\n",
              "\n",
              "    .dataframe tbody tr th {\n",
              "        vertical-align: top;\n",
              "    }\n",
              "\n",
              "    .dataframe thead th {\n",
              "        text-align: right;\n",
              "    }\n",
              "</style>\n",
              "<table border=\"1\" class=\"dataframe\">\n",
              "  <thead>\n",
              "    <tr style=\"text-align: right;\">\n",
              "      <th></th>\n",
              "      <th>Summit of head - suprasternal notch</th>\n",
              "      <th>suprasternal notch to umbilicus</th>\n",
              "      <th>Umbilicus to anus</th>\n",
              "      <th>Upper and lower Limbs</th>\n",
              "      <th>Throughout the body</th>\n",
              "      <th>Label</th>\n",
              "      <th>Upper and Lower Limbs</th>\n",
              "    </tr>\n",
              "  </thead>\n",
              "  <tbody>\n",
              "    <tr>\n",
              "      <th>0</th>\n",
              "      <td>Delirium</td>\n",
              "      <td>Pulmonary TB, asthma</td>\n",
              "      <td>NaN</td>\n",
              "      <td>Unable to walk</td>\n",
              "      <td>Fever</td>\n",
              "      <td>kabha-nadi</td>\n",
              "      <td>NaN</td>\n",
              "    </tr>\n",
              "    <tr>\n",
              "      <th>1</th>\n",
              "      <td>Pair of tongue with sweet taste sensation</td>\n",
              "      <td>Bronchitis / bronchial asthma</td>\n",
              "      <td>NaN</td>\n",
              "      <td>NaN</td>\n",
              "      <td>Eczema</td>\n",
              "      <td>kabha-nadi</td>\n",
              "      <td>NaN</td>\n",
              "    </tr>\n",
              "    <tr>\n",
              "      <th>2</th>\n",
              "      <td>Heaviness of ears and face</td>\n",
              "      <td>Hiccup</td>\n",
              "      <td>NaN</td>\n",
              "      <td>NaN</td>\n",
              "      <td>Acute pain</td>\n",
              "      <td>kabha-nadi</td>\n",
              "      <td>NaN</td>\n",
              "    </tr>\n",
              "    <tr>\n",
              "      <th>3</th>\n",
              "      <td>Sweating over the head</td>\n",
              "      <td>Emesis</td>\n",
              "      <td>NaN</td>\n",
              "      <td>NaN</td>\n",
              "      <td>Inflammation</td>\n",
              "      <td>kabha-nadi</td>\n",
              "      <td>NaN</td>\n",
              "    </tr>\n",
              "    <tr>\n",
              "      <th>4</th>\n",
              "      <td>Lacrimation rhinorrhea</td>\n",
              "      <td>Respiration</td>\n",
              "      <td>NaN</td>\n",
              "      <td>NaN</td>\n",
              "      <td>Anaemia</td>\n",
              "      <td>kabha-nadi</td>\n",
              "      <td>NaN</td>\n",
              "    </tr>\n",
              "  </tbody>\n",
              "</table>\n",
              "</div>\n",
              "      <button class=\"colab-df-convert\" onclick=\"convertToInteractive('df-66e95688-02a4-47f3-9d56-9edb934e6b15')\"\n",
              "              title=\"Convert this dataframe to an interactive table.\"\n",
              "              style=\"display:none;\">\n",
              "        \n",
              "  <svg xmlns=\"http://www.w3.org/2000/svg\" height=\"24px\"viewBox=\"0 0 24 24\"\n",
              "       width=\"24px\">\n",
              "    <path d=\"M0 0h24v24H0V0z\" fill=\"none\"/>\n",
              "    <path d=\"M18.56 5.44l.94 2.06.94-2.06 2.06-.94-2.06-.94-.94-2.06-.94 2.06-2.06.94zm-11 1L8.5 8.5l.94-2.06 2.06-.94-2.06-.94L8.5 2.5l-.94 2.06-2.06.94zm10 10l.94 2.06.94-2.06 2.06-.94-2.06-.94-.94-2.06-.94 2.06-2.06.94z\"/><path d=\"M17.41 7.96l-1.37-1.37c-.4-.4-.92-.59-1.43-.59-.52 0-1.04.2-1.43.59L10.3 9.45l-7.72 7.72c-.78.78-.78 2.05 0 2.83L4 21.41c.39.39.9.59 1.41.59.51 0 1.02-.2 1.41-.59l7.78-7.78 2.81-2.81c.8-.78.8-2.07 0-2.86zM5.41 20L4 18.59l7.72-7.72 1.47 1.35L5.41 20z\"/>\n",
              "  </svg>\n",
              "      </button>\n",
              "      \n",
              "  <style>\n",
              "    .colab-df-container {\n",
              "      display:flex;\n",
              "      flex-wrap:wrap;\n",
              "      gap: 12px;\n",
              "    }\n",
              "\n",
              "    .colab-df-convert {\n",
              "      background-color: #E8F0FE;\n",
              "      border: none;\n",
              "      border-radius: 50%;\n",
              "      cursor: pointer;\n",
              "      display: none;\n",
              "      fill: #1967D2;\n",
              "      height: 32px;\n",
              "      padding: 0 0 0 0;\n",
              "      width: 32px;\n",
              "    }\n",
              "\n",
              "    .colab-df-convert:hover {\n",
              "      background-color: #E2EBFA;\n",
              "      box-shadow: 0px 1px 2px rgba(60, 64, 67, 0.3), 0px 1px 3px 1px rgba(60, 64, 67, 0.15);\n",
              "      fill: #174EA6;\n",
              "    }\n",
              "\n",
              "    [theme=dark] .colab-df-convert {\n",
              "      background-color: #3B4455;\n",
              "      fill: #D2E3FC;\n",
              "    }\n",
              "\n",
              "    [theme=dark] .colab-df-convert:hover {\n",
              "      background-color: #434B5C;\n",
              "      box-shadow: 0px 1px 3px 1px rgba(0, 0, 0, 0.15);\n",
              "      filter: drop-shadow(0px 1px 2px rgba(0, 0, 0, 0.3));\n",
              "      fill: #FFFFFF;\n",
              "    }\n",
              "  </style>\n",
              "\n",
              "      <script>\n",
              "        const buttonEl =\n",
              "          document.querySelector('#df-66e95688-02a4-47f3-9d56-9edb934e6b15 button.colab-df-convert');\n",
              "        buttonEl.style.display =\n",
              "          google.colab.kernel.accessAllowed ? 'block' : 'none';\n",
              "\n",
              "        async function convertToInteractive(key) {\n",
              "          const element = document.querySelector('#df-66e95688-02a4-47f3-9d56-9edb934e6b15');\n",
              "          const dataTable =\n",
              "            await google.colab.kernel.invokeFunction('convertToInteractive',\n",
              "                                                     [key], {});\n",
              "          if (!dataTable) return;\n",
              "\n",
              "          const docLinkHtml = 'Like what you see? Visit the ' +\n",
              "            '<a target=\"_blank\" href=https://colab.research.google.com/notebooks/data_table.ipynb>data table notebook</a>'\n",
              "            + ' to learn more about interactive tables.';\n",
              "          element.innerHTML = '';\n",
              "          dataTable['output_type'] = 'display_data';\n",
              "          await google.colab.output.renderOutput(dataTable, element);\n",
              "          const docLink = document.createElement('div');\n",
              "          docLink.innerHTML = docLinkHtml;\n",
              "          element.appendChild(docLink);\n",
              "        }\n",
              "      </script>\n",
              "    </div>\n",
              "  </div>\n",
              "  "
            ]
          },
          "metadata": {},
          "execution_count": 40
        }
      ]
    },
    {
      "cell_type": "code",
      "source": [
        "siddha_df.describe()"
      ],
      "metadata": {
        "colab": {
          "base_uri": "https://localhost:8080/",
          "height": 175
        },
        "id": "G9ua-vt_NqVU",
        "outputId": "14e66e0f-54ec-4d6f-8bcb-c87c6d9255d2"
      },
      "execution_count": 41,
      "outputs": [
        {
          "output_type": "execute_result",
          "data": {
            "text/plain": [
              "       Summit of head - suprasternal notch suprasternal notch to umbilicus  \\\n",
              "count                                  142                             106   \n",
              "unique                                 128                              93   \n",
              "top                 Sweating over the head                          Hiccup   \n",
              "freq                                     3                               4   \n",
              "\n",
              "       Umbilicus to anus             Upper and lower Limbs  \\\n",
              "count                 57                                12   \n",
              "unique                53                                11   \n",
              "top              Dysuria  Enfeebled state of arms and legs   \n",
              "freq                   3                                 2   \n",
              "\n",
              "       Throughout the body   Label Upper and Lower Limbs  \n",
              "count                  152     180                    18  \n",
              "unique                 135       9                    18  \n",
              "top                  Fever  pitham       Upper limb pain  \n",
              "freq                     4      30                     1  "
            ],
            "text/html": [
              "\n",
              "  <div id=\"df-3d0a7f15-f081-4d96-8741-99dd210a9562\">\n",
              "    <div class=\"colab-df-container\">\n",
              "      <div>\n",
              "<style scoped>\n",
              "    .dataframe tbody tr th:only-of-type {\n",
              "        vertical-align: middle;\n",
              "    }\n",
              "\n",
              "    .dataframe tbody tr th {\n",
              "        vertical-align: top;\n",
              "    }\n",
              "\n",
              "    .dataframe thead th {\n",
              "        text-align: right;\n",
              "    }\n",
              "</style>\n",
              "<table border=\"1\" class=\"dataframe\">\n",
              "  <thead>\n",
              "    <tr style=\"text-align: right;\">\n",
              "      <th></th>\n",
              "      <th>Summit of head - suprasternal notch</th>\n",
              "      <th>suprasternal notch to umbilicus</th>\n",
              "      <th>Umbilicus to anus</th>\n",
              "      <th>Upper and lower Limbs</th>\n",
              "      <th>Throughout the body</th>\n",
              "      <th>Label</th>\n",
              "      <th>Upper and Lower Limbs</th>\n",
              "    </tr>\n",
              "  </thead>\n",
              "  <tbody>\n",
              "    <tr>\n",
              "      <th>count</th>\n",
              "      <td>142</td>\n",
              "      <td>106</td>\n",
              "      <td>57</td>\n",
              "      <td>12</td>\n",
              "      <td>152</td>\n",
              "      <td>180</td>\n",
              "      <td>18</td>\n",
              "    </tr>\n",
              "    <tr>\n",
              "      <th>unique</th>\n",
              "      <td>128</td>\n",
              "      <td>93</td>\n",
              "      <td>53</td>\n",
              "      <td>11</td>\n",
              "      <td>135</td>\n",
              "      <td>9</td>\n",
              "      <td>18</td>\n",
              "    </tr>\n",
              "    <tr>\n",
              "      <th>top</th>\n",
              "      <td>Sweating over the head</td>\n",
              "      <td>Hiccup</td>\n",
              "      <td>Dysuria</td>\n",
              "      <td>Enfeebled state of arms and legs</td>\n",
              "      <td>Fever</td>\n",
              "      <td>pitham</td>\n",
              "      <td>Upper limb pain</td>\n",
              "    </tr>\n",
              "    <tr>\n",
              "      <th>freq</th>\n",
              "      <td>3</td>\n",
              "      <td>4</td>\n",
              "      <td>3</td>\n",
              "      <td>2</td>\n",
              "      <td>4</td>\n",
              "      <td>30</td>\n",
              "      <td>1</td>\n",
              "    </tr>\n",
              "  </tbody>\n",
              "</table>\n",
              "</div>\n",
              "      <button class=\"colab-df-convert\" onclick=\"convertToInteractive('df-3d0a7f15-f081-4d96-8741-99dd210a9562')\"\n",
              "              title=\"Convert this dataframe to an interactive table.\"\n",
              "              style=\"display:none;\">\n",
              "        \n",
              "  <svg xmlns=\"http://www.w3.org/2000/svg\" height=\"24px\"viewBox=\"0 0 24 24\"\n",
              "       width=\"24px\">\n",
              "    <path d=\"M0 0h24v24H0V0z\" fill=\"none\"/>\n",
              "    <path d=\"M18.56 5.44l.94 2.06.94-2.06 2.06-.94-2.06-.94-.94-2.06-.94 2.06-2.06.94zm-11 1L8.5 8.5l.94-2.06 2.06-.94-2.06-.94L8.5 2.5l-.94 2.06-2.06.94zm10 10l.94 2.06.94-2.06 2.06-.94-2.06-.94-.94-2.06-.94 2.06-2.06.94z\"/><path d=\"M17.41 7.96l-1.37-1.37c-.4-.4-.92-.59-1.43-.59-.52 0-1.04.2-1.43.59L10.3 9.45l-7.72 7.72c-.78.78-.78 2.05 0 2.83L4 21.41c.39.39.9.59 1.41.59.51 0 1.02-.2 1.41-.59l7.78-7.78 2.81-2.81c.8-.78.8-2.07 0-2.86zM5.41 20L4 18.59l7.72-7.72 1.47 1.35L5.41 20z\"/>\n",
              "  </svg>\n",
              "      </button>\n",
              "      \n",
              "  <style>\n",
              "    .colab-df-container {\n",
              "      display:flex;\n",
              "      flex-wrap:wrap;\n",
              "      gap: 12px;\n",
              "    }\n",
              "\n",
              "    .colab-df-convert {\n",
              "      background-color: #E8F0FE;\n",
              "      border: none;\n",
              "      border-radius: 50%;\n",
              "      cursor: pointer;\n",
              "      display: none;\n",
              "      fill: #1967D2;\n",
              "      height: 32px;\n",
              "      padding: 0 0 0 0;\n",
              "      width: 32px;\n",
              "    }\n",
              "\n",
              "    .colab-df-convert:hover {\n",
              "      background-color: #E2EBFA;\n",
              "      box-shadow: 0px 1px 2px rgba(60, 64, 67, 0.3), 0px 1px 3px 1px rgba(60, 64, 67, 0.15);\n",
              "      fill: #174EA6;\n",
              "    }\n",
              "\n",
              "    [theme=dark] .colab-df-convert {\n",
              "      background-color: #3B4455;\n",
              "      fill: #D2E3FC;\n",
              "    }\n",
              "\n",
              "    [theme=dark] .colab-df-convert:hover {\n",
              "      background-color: #434B5C;\n",
              "      box-shadow: 0px 1px 3px 1px rgba(0, 0, 0, 0.15);\n",
              "      filter: drop-shadow(0px 1px 2px rgba(0, 0, 0, 0.3));\n",
              "      fill: #FFFFFF;\n",
              "    }\n",
              "  </style>\n",
              "\n",
              "      <script>\n",
              "        const buttonEl =\n",
              "          document.querySelector('#df-3d0a7f15-f081-4d96-8741-99dd210a9562 button.colab-df-convert');\n",
              "        buttonEl.style.display =\n",
              "          google.colab.kernel.accessAllowed ? 'block' : 'none';\n",
              "\n",
              "        async function convertToInteractive(key) {\n",
              "          const element = document.querySelector('#df-3d0a7f15-f081-4d96-8741-99dd210a9562');\n",
              "          const dataTable =\n",
              "            await google.colab.kernel.invokeFunction('convertToInteractive',\n",
              "                                                     [key], {});\n",
              "          if (!dataTable) return;\n",
              "\n",
              "          const docLinkHtml = 'Like what you see? Visit the ' +\n",
              "            '<a target=\"_blank\" href=https://colab.research.google.com/notebooks/data_table.ipynb>data table notebook</a>'\n",
              "            + ' to learn more about interactive tables.';\n",
              "          element.innerHTML = '';\n",
              "          dataTable['output_type'] = 'display_data';\n",
              "          await google.colab.output.renderOutput(dataTable, element);\n",
              "          const docLink = document.createElement('div');\n",
              "          docLink.innerHTML = docLinkHtml;\n",
              "          element.appendChild(docLink);\n",
              "        }\n",
              "      </script>\n",
              "    </div>\n",
              "  </div>\n",
              "  "
            ]
          },
          "metadata": {},
          "execution_count": 41
        }
      ]
    },
    {
      "cell_type": "code",
      "source": [
        "siddha_df.info()"
      ],
      "metadata": {
        "colab": {
          "base_uri": "https://localhost:8080/"
        },
        "id": "I_CLrXUJNtEv",
        "outputId": "9b70a403-9eea-4186-a2bf-e8d84ec4d2c6"
      },
      "execution_count": 42,
      "outputs": [
        {
          "output_type": "stream",
          "name": "stdout",
          "text": [
            "<class 'pandas.core.frame.DataFrame'>\n",
            "RangeIndex: 180 entries, 0 to 179\n",
            "Data columns (total 7 columns):\n",
            " #   Column                               Non-Null Count  Dtype \n",
            "---  ------                               --------------  ----- \n",
            " 0   Summit of head - suprasternal notch  142 non-null    object\n",
            " 1   suprasternal notch to umbilicus      106 non-null    object\n",
            " 2   Umbilicus to anus                    57 non-null     object\n",
            " 3   Upper and lower Limbs                12 non-null     object\n",
            " 4   Throughout the body                  152 non-null    object\n",
            " 5   Label                                180 non-null    object\n",
            " 6   Upper and Lower Limbs                18 non-null     object\n",
            "dtypes: object(7)\n",
            "memory usage: 10.0+ KB\n"
          ]
        }
      ]
    },
    {
      "cell_type": "code",
      "source": [
        "siddha_df['Label'].unique()"
      ],
      "metadata": {
        "colab": {
          "base_uri": "https://localhost:8080/"
        },
        "id": "NjgKQY1FRdAa",
        "outputId": "a3198b27-ab00-4d34-c090-929ac012e7cb"
      },
      "execution_count": 43,
      "outputs": [
        {
          "output_type": "execute_result",
          "data": {
            "text/plain": [
              "array(['kabha-nadi', 'kabha-pitha', 'kabha-vatha', 'pithakabham',\n",
              "       'pitham', 'pithavadham', 'vatha-kabham', 'vatham', 'vatha-pitham'],\n",
              "      dtype=object)"
            ]
          },
          "metadata": {},
          "execution_count": 43
        }
      ]
    },
    {
      "cell_type": "code",
      "source": [
        "#Remove the incorrect labels manually and load the dataset again\n",
        "all_files = glob.glob(\"Siddha/*.xlsx\")\n",
        "individual_files = []\n",
        "\n",
        "for filename in all_files:\n",
        "    df = pd.read_excel(filename)\n",
        "    individual_files.append(df)\n",
        "\n",
        "siddha_df = pd.concat(individual_files, axis=0, ignore_index=True)"
      ],
      "metadata": {
        "id": "YPf5bu75RDdj"
      },
      "execution_count": 44,
      "outputs": []
    },
    {
      "cell_type": "code",
      "source": [
        "siddha_df.head()"
      ],
      "metadata": {
        "colab": {
          "base_uri": "https://localhost:8080/",
          "height": 206
        },
        "id": "SNCYoCQASnJa",
        "outputId": "10d24288-c53d-403c-d4fe-ce04a0fda6ba"
      },
      "execution_count": 45,
      "outputs": [
        {
          "output_type": "execute_result",
          "data": {
            "text/plain": [
              "          Summit of head - suprasternal notch suprasternal notch to umbilicus  \\\n",
              "0                                    Delirium            Pulmonary TB, asthma   \n",
              "1   Pair of tongue with sweet taste sensation   Bronchitis / bronchial asthma   \n",
              "2                  Heaviness of ears and face                          Hiccup   \n",
              "3                      Sweating over the head                          Emesis   \n",
              "4                      Lacrimation rhinorrhea                     Respiration   \n",
              "\n",
              "  Umbilicus to anus Upper and lower Limbs Throughout the body       Label  \\\n",
              "0               NaN        Unable to walk               Fever  kabha-nadi   \n",
              "1               NaN                   NaN              Eczema  kabha-nadi   \n",
              "2               NaN                   NaN          Acute pain  kabha-nadi   \n",
              "3               NaN                   NaN        Inflammation  kabha-nadi   \n",
              "4               NaN                   NaN             Anaemia  kabha-nadi   \n",
              "\n",
              "  Upper and Lower Limbs  \n",
              "0                   NaN  \n",
              "1                   NaN  \n",
              "2                   NaN  \n",
              "3                   NaN  \n",
              "4                   NaN  "
            ],
            "text/html": [
              "\n",
              "  <div id=\"df-3c0803d5-fce7-4248-8ca3-b87a3b0de72e\">\n",
              "    <div class=\"colab-df-container\">\n",
              "      <div>\n",
              "<style scoped>\n",
              "    .dataframe tbody tr th:only-of-type {\n",
              "        vertical-align: middle;\n",
              "    }\n",
              "\n",
              "    .dataframe tbody tr th {\n",
              "        vertical-align: top;\n",
              "    }\n",
              "\n",
              "    .dataframe thead th {\n",
              "        text-align: right;\n",
              "    }\n",
              "</style>\n",
              "<table border=\"1\" class=\"dataframe\">\n",
              "  <thead>\n",
              "    <tr style=\"text-align: right;\">\n",
              "      <th></th>\n",
              "      <th>Summit of head - suprasternal notch</th>\n",
              "      <th>suprasternal notch to umbilicus</th>\n",
              "      <th>Umbilicus to anus</th>\n",
              "      <th>Upper and lower Limbs</th>\n",
              "      <th>Throughout the body</th>\n",
              "      <th>Label</th>\n",
              "      <th>Upper and Lower Limbs</th>\n",
              "    </tr>\n",
              "  </thead>\n",
              "  <tbody>\n",
              "    <tr>\n",
              "      <th>0</th>\n",
              "      <td>Delirium</td>\n",
              "      <td>Pulmonary TB, asthma</td>\n",
              "      <td>NaN</td>\n",
              "      <td>Unable to walk</td>\n",
              "      <td>Fever</td>\n",
              "      <td>kabha-nadi</td>\n",
              "      <td>NaN</td>\n",
              "    </tr>\n",
              "    <tr>\n",
              "      <th>1</th>\n",
              "      <td>Pair of tongue with sweet taste sensation</td>\n",
              "      <td>Bronchitis / bronchial asthma</td>\n",
              "      <td>NaN</td>\n",
              "      <td>NaN</td>\n",
              "      <td>Eczema</td>\n",
              "      <td>kabha-nadi</td>\n",
              "      <td>NaN</td>\n",
              "    </tr>\n",
              "    <tr>\n",
              "      <th>2</th>\n",
              "      <td>Heaviness of ears and face</td>\n",
              "      <td>Hiccup</td>\n",
              "      <td>NaN</td>\n",
              "      <td>NaN</td>\n",
              "      <td>Acute pain</td>\n",
              "      <td>kabha-nadi</td>\n",
              "      <td>NaN</td>\n",
              "    </tr>\n",
              "    <tr>\n",
              "      <th>3</th>\n",
              "      <td>Sweating over the head</td>\n",
              "      <td>Emesis</td>\n",
              "      <td>NaN</td>\n",
              "      <td>NaN</td>\n",
              "      <td>Inflammation</td>\n",
              "      <td>kabha-nadi</td>\n",
              "      <td>NaN</td>\n",
              "    </tr>\n",
              "    <tr>\n",
              "      <th>4</th>\n",
              "      <td>Lacrimation rhinorrhea</td>\n",
              "      <td>Respiration</td>\n",
              "      <td>NaN</td>\n",
              "      <td>NaN</td>\n",
              "      <td>Anaemia</td>\n",
              "      <td>kabha-nadi</td>\n",
              "      <td>NaN</td>\n",
              "    </tr>\n",
              "  </tbody>\n",
              "</table>\n",
              "</div>\n",
              "      <button class=\"colab-df-convert\" onclick=\"convertToInteractive('df-3c0803d5-fce7-4248-8ca3-b87a3b0de72e')\"\n",
              "              title=\"Convert this dataframe to an interactive table.\"\n",
              "              style=\"display:none;\">\n",
              "        \n",
              "  <svg xmlns=\"http://www.w3.org/2000/svg\" height=\"24px\"viewBox=\"0 0 24 24\"\n",
              "       width=\"24px\">\n",
              "    <path d=\"M0 0h24v24H0V0z\" fill=\"none\"/>\n",
              "    <path d=\"M18.56 5.44l.94 2.06.94-2.06 2.06-.94-2.06-.94-.94-2.06-.94 2.06-2.06.94zm-11 1L8.5 8.5l.94-2.06 2.06-.94-2.06-.94L8.5 2.5l-.94 2.06-2.06.94zm10 10l.94 2.06.94-2.06 2.06-.94-2.06-.94-.94-2.06-.94 2.06-2.06.94z\"/><path d=\"M17.41 7.96l-1.37-1.37c-.4-.4-.92-.59-1.43-.59-.52 0-1.04.2-1.43.59L10.3 9.45l-7.72 7.72c-.78.78-.78 2.05 0 2.83L4 21.41c.39.39.9.59 1.41.59.51 0 1.02-.2 1.41-.59l7.78-7.78 2.81-2.81c.8-.78.8-2.07 0-2.86zM5.41 20L4 18.59l7.72-7.72 1.47 1.35L5.41 20z\"/>\n",
              "  </svg>\n",
              "      </button>\n",
              "      \n",
              "  <style>\n",
              "    .colab-df-container {\n",
              "      display:flex;\n",
              "      flex-wrap:wrap;\n",
              "      gap: 12px;\n",
              "    }\n",
              "\n",
              "    .colab-df-convert {\n",
              "      background-color: #E8F0FE;\n",
              "      border: none;\n",
              "      border-radius: 50%;\n",
              "      cursor: pointer;\n",
              "      display: none;\n",
              "      fill: #1967D2;\n",
              "      height: 32px;\n",
              "      padding: 0 0 0 0;\n",
              "      width: 32px;\n",
              "    }\n",
              "\n",
              "    .colab-df-convert:hover {\n",
              "      background-color: #E2EBFA;\n",
              "      box-shadow: 0px 1px 2px rgba(60, 64, 67, 0.3), 0px 1px 3px 1px rgba(60, 64, 67, 0.15);\n",
              "      fill: #174EA6;\n",
              "    }\n",
              "\n",
              "    [theme=dark] .colab-df-convert {\n",
              "      background-color: #3B4455;\n",
              "      fill: #D2E3FC;\n",
              "    }\n",
              "\n",
              "    [theme=dark] .colab-df-convert:hover {\n",
              "      background-color: #434B5C;\n",
              "      box-shadow: 0px 1px 3px 1px rgba(0, 0, 0, 0.15);\n",
              "      filter: drop-shadow(0px 1px 2px rgba(0, 0, 0, 0.3));\n",
              "      fill: #FFFFFF;\n",
              "    }\n",
              "  </style>\n",
              "\n",
              "      <script>\n",
              "        const buttonEl =\n",
              "          document.querySelector('#df-3c0803d5-fce7-4248-8ca3-b87a3b0de72e button.colab-df-convert');\n",
              "        buttonEl.style.display =\n",
              "          google.colab.kernel.accessAllowed ? 'block' : 'none';\n",
              "\n",
              "        async function convertToInteractive(key) {\n",
              "          const element = document.querySelector('#df-3c0803d5-fce7-4248-8ca3-b87a3b0de72e');\n",
              "          const dataTable =\n",
              "            await google.colab.kernel.invokeFunction('convertToInteractive',\n",
              "                                                     [key], {});\n",
              "          if (!dataTable) return;\n",
              "\n",
              "          const docLinkHtml = 'Like what you see? Visit the ' +\n",
              "            '<a target=\"_blank\" href=https://colab.research.google.com/notebooks/data_table.ipynb>data table notebook</a>'\n",
              "            + ' to learn more about interactive tables.';\n",
              "          element.innerHTML = '';\n",
              "          dataTable['output_type'] = 'display_data';\n",
              "          await google.colab.output.renderOutput(dataTable, element);\n",
              "          const docLink = document.createElement('div');\n",
              "          docLink.innerHTML = docLinkHtml;\n",
              "          element.appendChild(docLink);\n",
              "        }\n",
              "      </script>\n",
              "    </div>\n",
              "  </div>\n",
              "  "
            ]
          },
          "metadata": {},
          "execution_count": 45
        }
      ]
    },
    {
      "cell_type": "code",
      "source": [
        "siddha_df.describe()"
      ],
      "metadata": {
        "colab": {
          "base_uri": "https://localhost:8080/",
          "height": 175
        },
        "id": "mQ4ab9J1SqJ3",
        "outputId": "30c95426-22ea-4c82-f4e2-e0ab7105123e"
      },
      "execution_count": 46,
      "outputs": [
        {
          "output_type": "execute_result",
          "data": {
            "text/plain": [
              "       Summit of head - suprasternal notch suprasternal notch to umbilicus  \\\n",
              "count                                  142                             106   \n",
              "unique                                 128                              93   \n",
              "top                 Sweating over the head                          Hiccup   \n",
              "freq                                     3                               4   \n",
              "\n",
              "       Umbilicus to anus             Upper and lower Limbs  \\\n",
              "count                 57                                12   \n",
              "unique                53                                11   \n",
              "top              Dysuria  Enfeebled state of arms and legs   \n",
              "freq                   3                                 2   \n",
              "\n",
              "       Throughout the body   Label Upper and Lower Limbs  \n",
              "count                  152     180                    18  \n",
              "unique                 135       9                    18  \n",
              "top                  Fever  pitham       Upper limb pain  \n",
              "freq                     4      30                     1  "
            ],
            "text/html": [
              "\n",
              "  <div id=\"df-2c1da1cd-9069-4fa8-8d28-f2f8019fd261\">\n",
              "    <div class=\"colab-df-container\">\n",
              "      <div>\n",
              "<style scoped>\n",
              "    .dataframe tbody tr th:only-of-type {\n",
              "        vertical-align: middle;\n",
              "    }\n",
              "\n",
              "    .dataframe tbody tr th {\n",
              "        vertical-align: top;\n",
              "    }\n",
              "\n",
              "    .dataframe thead th {\n",
              "        text-align: right;\n",
              "    }\n",
              "</style>\n",
              "<table border=\"1\" class=\"dataframe\">\n",
              "  <thead>\n",
              "    <tr style=\"text-align: right;\">\n",
              "      <th></th>\n",
              "      <th>Summit of head - suprasternal notch</th>\n",
              "      <th>suprasternal notch to umbilicus</th>\n",
              "      <th>Umbilicus to anus</th>\n",
              "      <th>Upper and lower Limbs</th>\n",
              "      <th>Throughout the body</th>\n",
              "      <th>Label</th>\n",
              "      <th>Upper and Lower Limbs</th>\n",
              "    </tr>\n",
              "  </thead>\n",
              "  <tbody>\n",
              "    <tr>\n",
              "      <th>count</th>\n",
              "      <td>142</td>\n",
              "      <td>106</td>\n",
              "      <td>57</td>\n",
              "      <td>12</td>\n",
              "      <td>152</td>\n",
              "      <td>180</td>\n",
              "      <td>18</td>\n",
              "    </tr>\n",
              "    <tr>\n",
              "      <th>unique</th>\n",
              "      <td>128</td>\n",
              "      <td>93</td>\n",
              "      <td>53</td>\n",
              "      <td>11</td>\n",
              "      <td>135</td>\n",
              "      <td>9</td>\n",
              "      <td>18</td>\n",
              "    </tr>\n",
              "    <tr>\n",
              "      <th>top</th>\n",
              "      <td>Sweating over the head</td>\n",
              "      <td>Hiccup</td>\n",
              "      <td>Dysuria</td>\n",
              "      <td>Enfeebled state of arms and legs</td>\n",
              "      <td>Fever</td>\n",
              "      <td>pitham</td>\n",
              "      <td>Upper limb pain</td>\n",
              "    </tr>\n",
              "    <tr>\n",
              "      <th>freq</th>\n",
              "      <td>3</td>\n",
              "      <td>4</td>\n",
              "      <td>3</td>\n",
              "      <td>2</td>\n",
              "      <td>4</td>\n",
              "      <td>30</td>\n",
              "      <td>1</td>\n",
              "    </tr>\n",
              "  </tbody>\n",
              "</table>\n",
              "</div>\n",
              "      <button class=\"colab-df-convert\" onclick=\"convertToInteractive('df-2c1da1cd-9069-4fa8-8d28-f2f8019fd261')\"\n",
              "              title=\"Convert this dataframe to an interactive table.\"\n",
              "              style=\"display:none;\">\n",
              "        \n",
              "  <svg xmlns=\"http://www.w3.org/2000/svg\" height=\"24px\"viewBox=\"0 0 24 24\"\n",
              "       width=\"24px\">\n",
              "    <path d=\"M0 0h24v24H0V0z\" fill=\"none\"/>\n",
              "    <path d=\"M18.56 5.44l.94 2.06.94-2.06 2.06-.94-2.06-.94-.94-2.06-.94 2.06-2.06.94zm-11 1L8.5 8.5l.94-2.06 2.06-.94-2.06-.94L8.5 2.5l-.94 2.06-2.06.94zm10 10l.94 2.06.94-2.06 2.06-.94-2.06-.94-.94-2.06-.94 2.06-2.06.94z\"/><path d=\"M17.41 7.96l-1.37-1.37c-.4-.4-.92-.59-1.43-.59-.52 0-1.04.2-1.43.59L10.3 9.45l-7.72 7.72c-.78.78-.78 2.05 0 2.83L4 21.41c.39.39.9.59 1.41.59.51 0 1.02-.2 1.41-.59l7.78-7.78 2.81-2.81c.8-.78.8-2.07 0-2.86zM5.41 20L4 18.59l7.72-7.72 1.47 1.35L5.41 20z\"/>\n",
              "  </svg>\n",
              "      </button>\n",
              "      \n",
              "  <style>\n",
              "    .colab-df-container {\n",
              "      display:flex;\n",
              "      flex-wrap:wrap;\n",
              "      gap: 12px;\n",
              "    }\n",
              "\n",
              "    .colab-df-convert {\n",
              "      background-color: #E8F0FE;\n",
              "      border: none;\n",
              "      border-radius: 50%;\n",
              "      cursor: pointer;\n",
              "      display: none;\n",
              "      fill: #1967D2;\n",
              "      height: 32px;\n",
              "      padding: 0 0 0 0;\n",
              "      width: 32px;\n",
              "    }\n",
              "\n",
              "    .colab-df-convert:hover {\n",
              "      background-color: #E2EBFA;\n",
              "      box-shadow: 0px 1px 2px rgba(60, 64, 67, 0.3), 0px 1px 3px 1px rgba(60, 64, 67, 0.15);\n",
              "      fill: #174EA6;\n",
              "    }\n",
              "\n",
              "    [theme=dark] .colab-df-convert {\n",
              "      background-color: #3B4455;\n",
              "      fill: #D2E3FC;\n",
              "    }\n",
              "\n",
              "    [theme=dark] .colab-df-convert:hover {\n",
              "      background-color: #434B5C;\n",
              "      box-shadow: 0px 1px 3px 1px rgba(0, 0, 0, 0.15);\n",
              "      filter: drop-shadow(0px 1px 2px rgba(0, 0, 0, 0.3));\n",
              "      fill: #FFFFFF;\n",
              "    }\n",
              "  </style>\n",
              "\n",
              "      <script>\n",
              "        const buttonEl =\n",
              "          document.querySelector('#df-2c1da1cd-9069-4fa8-8d28-f2f8019fd261 button.colab-df-convert');\n",
              "        buttonEl.style.display =\n",
              "          google.colab.kernel.accessAllowed ? 'block' : 'none';\n",
              "\n",
              "        async function convertToInteractive(key) {\n",
              "          const element = document.querySelector('#df-2c1da1cd-9069-4fa8-8d28-f2f8019fd261');\n",
              "          const dataTable =\n",
              "            await google.colab.kernel.invokeFunction('convertToInteractive',\n",
              "                                                     [key], {});\n",
              "          if (!dataTable) return;\n",
              "\n",
              "          const docLinkHtml = 'Like what you see? Visit the ' +\n",
              "            '<a target=\"_blank\" href=https://colab.research.google.com/notebooks/data_table.ipynb>data table notebook</a>'\n",
              "            + ' to learn more about interactive tables.';\n",
              "          element.innerHTML = '';\n",
              "          dataTable['output_type'] = 'display_data';\n",
              "          await google.colab.output.renderOutput(dataTable, element);\n",
              "          const docLink = document.createElement('div');\n",
              "          docLink.innerHTML = docLinkHtml;\n",
              "          element.appendChild(docLink);\n",
              "        }\n",
              "      </script>\n",
              "    </div>\n",
              "  </div>\n",
              "  "
            ]
          },
          "metadata": {},
          "execution_count": 46
        }
      ]
    },
    {
      "cell_type": "code",
      "source": [
        "#Check if erroneous labels have been removed\n",
        "siddha_df['Label'].unique()"
      ],
      "metadata": {
        "colab": {
          "base_uri": "https://localhost:8080/"
        },
        "id": "1CtjnzlySwfQ",
        "outputId": "07a3ab3a-0cff-41d4-b2df-0ade265e710b"
      },
      "execution_count": 47,
      "outputs": [
        {
          "output_type": "execute_result",
          "data": {
            "text/plain": [
              "array(['kabha-nadi', 'kabha-pitha', 'kabha-vatha', 'pithakabham',\n",
              "       'pitham', 'pithavadham', 'vatha-kabham', 'vatham', 'vatha-pitham'],\n",
              "      dtype=object)"
            ]
          },
          "metadata": {},
          "execution_count": 47
        }
      ]
    },
    {
      "cell_type": "code",
      "source": [
        "siddha_df['Upper and Lower Limbs'].describe()"
      ],
      "metadata": {
        "colab": {
          "base_uri": "https://localhost:8080/"
        },
        "id": "qW9gYO7Uj1KX",
        "outputId": "87238b9d-879d-48ff-8cd1-acd73c4143db"
      },
      "execution_count": 48,
      "outputs": [
        {
          "output_type": "execute_result",
          "data": {
            "text/plain": [
              "count                   18\n",
              "unique                  18\n",
              "top        Upper limb pain\n",
              "freq                     1\n",
              "Name: Upper and Lower Limbs, dtype: object"
            ]
          },
          "metadata": {},
          "execution_count": 48
        }
      ]
    },
    {
      "cell_type": "code",
      "source": [
        "siddha_df['Upper and lower Limbs'].describe()"
      ],
      "metadata": {
        "colab": {
          "base_uri": "https://localhost:8080/"
        },
        "id": "eIFoSaSdj41o",
        "outputId": "1bba644e-661c-4555-be97-251eeb4d8f50"
      },
      "execution_count": 49,
      "outputs": [
        {
          "output_type": "execute_result",
          "data": {
            "text/plain": [
              "count                                   12\n",
              "unique                                  11\n",
              "top       Enfeebled state of arms and legs\n",
              "freq                                     2\n",
              "Name: Upper and lower Limbs, dtype: object"
            ]
          },
          "metadata": {},
          "execution_count": 49
        }
      ]
    },
    {
      "cell_type": "code",
      "source": [
        "#resolve the column name issue manually and reload the dataframe\n",
        "all_files = glob.glob(\"Siddha/*.xlsx\")\n",
        "individual_files = []\n",
        "\n",
        "for filename in all_files:\n",
        "    df = pd.read_excel(filename)\n",
        "    individual_files.append(df)\n",
        "\n",
        "siddha_df = pd.concat(individual_files, axis=0, ignore_index=True)"
      ],
      "metadata": {
        "id": "02nGzCEQkrLc"
      },
      "execution_count": 50,
      "outputs": []
    },
    {
      "cell_type": "code",
      "source": [
        "siddha_df.info()"
      ],
      "metadata": {
        "colab": {
          "base_uri": "https://localhost:8080/"
        },
        "id": "hFKDOihEkxv3",
        "outputId": "1e67fabc-c388-45b7-99e1-2b9c2fc56414"
      },
      "execution_count": 51,
      "outputs": [
        {
          "output_type": "stream",
          "name": "stdout",
          "text": [
            "<class 'pandas.core.frame.DataFrame'>\n",
            "RangeIndex: 180 entries, 0 to 179\n",
            "Data columns (total 6 columns):\n",
            " #   Column                               Non-Null Count  Dtype \n",
            "---  ------                               --------------  ----- \n",
            " 0   Summit of head - suprasternal notch  142 non-null    object\n",
            " 1   suprasternal notch to umbilicus      106 non-null    object\n",
            " 2   Umbilicus to anus                    57 non-null     object\n",
            " 3   Upper and Lower Limbs                30 non-null     object\n",
            " 4   Throughout the body                  152 non-null    object\n",
            " 5   Label                                180 non-null    object\n",
            "dtypes: object(6)\n",
            "memory usage: 8.6+ KB\n"
          ]
        }
      ]
    },
    {
      "cell_type": "code",
      "source": [
        "#Convert each column into a dataframe\n",
        "siddha_head = pd.DataFrame().assign(head = siddha_df['Summit of head - suprasternal notch'], label = siddha_df['Label'])\n",
        "siddha_suprasternal = pd.DataFrame().assign(suprasternal = siddha_df['suprasternal notch to umbilicus'], label = siddha_df['Label'])\n",
        "siddha_umbilicus = pd.DataFrame().assign(umbilicus = siddha_df['Umbilicus to anus'], label = siddha_df['Label'])\n",
        "siddha_limbs = pd.DataFrame().assign(limbs = siddha_df['Upper and Lower Limbs'], label = siddha_df['Label'])\n",
        "siddha_whole = pd.DataFrame().assign(whole = siddha_df['Summit of head - suprasternal notch'], label = siddha_df['Label'])"
      ],
      "metadata": {
        "id": "FkIuHtvdk3n-"
      },
      "execution_count": 60,
      "outputs": []
    },
    {
      "cell_type": "code",
      "source": [
        "def print_details(df):\n",
        "  print(df.describe())\n",
        "  print(\"\")\n",
        "  print(\"Details of columns with null values:\")\n",
        "  print(df.isna().sum())\n",
        "  print(\"\")\n",
        "  print(f\"Number of duplicated rows: {df.duplicated().sum()}\")"
      ],
      "metadata": {
        "id": "SHDziXm-nmbM"
      },
      "execution_count": 66,
      "outputs": []
    },
    {
      "cell_type": "code",
      "source": [
        "print_details(siddha_head)"
      ],
      "metadata": {
        "colab": {
          "base_uri": "https://localhost:8080/"
        },
        "id": "7EaDUYaemcgh",
        "outputId": "9f5e1443-63fb-48a9-db42-388a63b1bf88"
      },
      "execution_count": 67,
      "outputs": [
        {
          "output_type": "stream",
          "name": "stdout",
          "text": [
            "                           head   label\n",
            "count                       142     180\n",
            "unique                      128       9\n",
            "top      Sweating over the head  pitham\n",
            "freq                          3      30\n",
            "\n",
            "Details of columns with null values:\n",
            "head     38\n",
            "label     0\n",
            "dtype: int64\n",
            "\n",
            "Number of duplicated rows: 34\n"
          ]
        }
      ]
    },
    {
      "cell_type": "code",
      "source": [
        "siddha_head = siddha_head.dropna()\n",
        "print_details(siddha_head)"
      ],
      "metadata": {
        "colab": {
          "base_uri": "https://localhost:8080/"
        },
        "id": "pkkH-JkVmtO0",
        "outputId": "37a1f373-0fd6-44b0-ca47-7499b5341258"
      },
      "execution_count": 68,
      "outputs": [
        {
          "output_type": "stream",
          "name": "stdout",
          "text": [
            "                           head   label\n",
            "count                       142     142\n",
            "unique                      128       9\n",
            "top      Sweating over the head  pitham\n",
            "freq                          3      30\n",
            "\n",
            "Details of columns with null values:\n",
            "head     0\n",
            "label    0\n",
            "dtype: int64\n",
            "\n",
            "Number of duplicated rows: 1\n"
          ]
        }
      ]
    },
    {
      "cell_type": "code",
      "source": [
        "print_details(siddha_suprasternal)"
      ],
      "metadata": {
        "colab": {
          "base_uri": "https://localhost:8080/"
        },
        "id": "Yt_MYEwgngS3",
        "outputId": "38eed4e4-3a97-408f-87ce-7a1ca79adb75"
      },
      "execution_count": 69,
      "outputs": [
        {
          "output_type": "stream",
          "name": "stdout",
          "text": [
            "       suprasternal   label\n",
            "count           106     180\n",
            "unique           93       9\n",
            "top          Hiccup  pitham\n",
            "freq              4      30\n",
            "\n",
            "Details of columns with null values:\n",
            "suprasternal    74\n",
            "label            0\n",
            "dtype: int64\n",
            "\n",
            "Number of duplicated rows: 69\n"
          ]
        }
      ]
    },
    {
      "cell_type": "code",
      "source": [
        "siddha_suprasternal = siddha_suprasternal.dropna()\n",
        "print_details(siddha_suprasternal)"
      ],
      "metadata": {
        "colab": {
          "base_uri": "https://localhost:8080/"
        },
        "id": "G8po3TcsnaLz",
        "outputId": "995cc28b-6ddc-45be-ed99-d8dd7b69bef5"
      },
      "execution_count": 70,
      "outputs": [
        {
          "output_type": "stream",
          "name": "stdout",
          "text": [
            "       suprasternal       label\n",
            "count           106         106\n",
            "unique           93           9\n",
            "top          Hiccup  kabha-nadi\n",
            "freq              4          17\n",
            "\n",
            "Details of columns with null values:\n",
            "suprasternal    0\n",
            "label           0\n",
            "dtype: int64\n",
            "\n",
            "Number of duplicated rows: 3\n"
          ]
        }
      ]
    },
    {
      "cell_type": "code",
      "source": [
        "siddha_umbilicus = siddha_umbilicus.dropna()\n",
        "print_details(siddha_umbilicus)"
      ],
      "metadata": {
        "colab": {
          "base_uri": "https://localhost:8080/"
        },
        "id": "vQS1LOiqne1A",
        "outputId": "a9e1372c-f9c0-4589-8aa1-56c1f4575792"
      },
      "execution_count": 71,
      "outputs": [
        {
          "output_type": "stream",
          "name": "stdout",
          "text": [
            "       umbilicus   label\n",
            "count         57      57\n",
            "unique        53       7\n",
            "top      Dysuria  vatham\n",
            "freq           3      22\n",
            "\n",
            "Details of columns with null values:\n",
            "umbilicus    0\n",
            "label        0\n",
            "dtype: int64\n",
            "\n",
            "Number of duplicated rows: 1\n"
          ]
        }
      ]
    },
    {
      "cell_type": "code",
      "source": [
        "siddha_limbs = siddha_limbs.dropna()\n",
        "print_details(siddha_limbs)"
      ],
      "metadata": {
        "colab": {
          "base_uri": "https://localhost:8080/"
        },
        "id": "QZvJZ3GaobiH",
        "outputId": "37f734d1-0abd-4311-961a-b42cfcb58d2c"
      },
      "execution_count": 72,
      "outputs": [
        {
          "output_type": "stream",
          "name": "stdout",
          "text": [
            "                                   limbs         label\n",
            "count                                 30            30\n",
            "unique                                29             9\n",
            "top     Enfeebled state of arms and legs  vatha-pitham\n",
            "freq                                   2             9\n",
            "\n",
            "Details of columns with null values:\n",
            "limbs    0\n",
            "label    0\n",
            "dtype: int64\n",
            "\n",
            "Number of duplicated rows: 0\n"
          ]
        }
      ]
    },
    {
      "cell_type": "code",
      "source": [
        "siddha_whole = siddha_whole.dropna()\n",
        "print_details(siddha_whole)"
      ],
      "metadata": {
        "id": "cQtk5_S9of2d",
        "outputId": "bfde3a45-23c7-4f08-d226-027827231ad4",
        "colab": {
          "base_uri": "https://localhost:8080/"
        }
      },
      "execution_count": 73,
      "outputs": [
        {
          "output_type": "stream",
          "name": "stdout",
          "text": [
            "                          whole   label\n",
            "count                       142     142\n",
            "unique                      128       9\n",
            "top      Sweating over the head  pitham\n",
            "freq                          3      30\n",
            "\n",
            "Details of columns with null values:\n",
            "whole    0\n",
            "label    0\n",
            "dtype: int64\n",
            "\n",
            "Number of duplicated rows: 1\n"
          ]
        }
      ]
    }
  ]
}